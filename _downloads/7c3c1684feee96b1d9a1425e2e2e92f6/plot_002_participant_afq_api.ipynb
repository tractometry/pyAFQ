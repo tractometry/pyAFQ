{
  "cells": [
    {
      "cell_type": "markdown",
      "metadata": {},
      "source": [
        "\n# Getting started with pyAFQ - ParticipantAFQ\n"
      ]
    },
    {
      "cell_type": "code",
      "execution_count": null,
      "metadata": {
        "collapsed": false
      },
      "outputs": [],
      "source": [
        "import os\nimport os.path as op\n\nimport matplotlib.pyplot as plt\nimport nibabel as nib\nimport plotly\nimport pandas as pd\n\nfrom AFQ.api.participant import ParticipantAFQ\nimport AFQ.data.fetch as afd\nimport AFQ.viz.altair as ava"
      ]
    },
    {
      "cell_type": "markdown",
      "metadata": {},
      "source": [
        "## Example data\nThe following call dowloads a dataset that contains a single subject\"s\nhigh angular resolution diffusion imaging (HARDI) data, collected at the\nStanford Vista Lab\n\n<div class=\"alert alert-info\"><h4>Note</h4><p>See https://purl.stanford.edu/ng782rw8378 for details on dataset.</p></div>\n\nThe data are downloaded and organized locally into a BIDS compliant\nanatomical data folder (``anat``) and a diffusion-weighted imaging data\n(``dwi``) folder, which are both placed in the user's home directory under::\n\n  ``~/AFQ_data/stanford_hardi/``\n\nThe data is also placed in a derivatives directory, signifying that it has\nalready undergone the required preprocessing necessary for pyAFQ to run.\n\nThe clear_previous_afq is used to remove any previous runs of the afq object\nstored in the ``~/AFQ_data/stanford_hardi/`` BIDS directory. Set it to None if\nyou want to use the results of previous runs.\n\n"
      ]
    },
    {
      "cell_type": "code",
      "execution_count": null,
      "metadata": {
        "collapsed": false
      },
      "outputs": [],
      "source": [
        "afd.organize_stanford_data(clear_previous_afq = \"track\")"
      ]
    },
    {
      "cell_type": "markdown",
      "metadata": {},
      "source": [
        "## Defining data files\nIf your data is not in BIDS format, you can still use pyAFQ. If you have BIDS\ncompliant dataset, you can use ``GroupAFQ`` instead (:doc:`plot_001_group_afq_api`). \nOtherwise, You will need to define the data files that you want to use. In \nthis case, we will define the data files for the subject we downloaded above. \nThe data files are located in the ``~/AFQ_data/stanford_hardi/derivatives/vistasoft``\ndirectory, and are organized into a BIDS compliant directory structure. The \ndata files are located in the ``dwi`` directories. The data files\nare:  \n\n- ``sub-01_dwi.nii.gz`` (the diffusion-weighted imaging data)\n- ``sub-01_dwi.bval``   (the b-values)\n- ``sub-01_dwi.bvec``   (the b-vectors)\n\n"
      ]
    },
    {
      "cell_type": "code",
      "execution_count": null,
      "metadata": {
        "collapsed": false
      },
      "outputs": [],
      "source": [
        "data_dir = op.join(afd.afq_home, \"stanford_hardi\", \"derivatives\", \"vistasoft\", \n                   \"sub-01\", \"ses-01\", \"dwi\")\n\ndwi_data_file = op.join(data_dir, \"sub-01_ses-01_dwi.nii.gz\")\nbval_file     = op.join(data_dir, \"sub-01_ses-01_dwi.bval\")\nbvec_file     = op.join(data_dir, \"sub-01_ses-01_dwi.bvec\")\n\n# You will also need to define the output directory where you want to store the\n# results. The output directory needs to exist before exporting ParticipantAFQ\n# results.\n\noutput_dir = op.join(afd.afq_home, \"stanford_hardi\", \"derivatives\", \"afq\", \"sub-01\")\nos.makedirs(output_dir, exist_ok = True)"
      ]
    },
    {
      "cell_type": "markdown",
      "metadata": {},
      "source": [
        "## Set tractography parameters (optional)\nWe make create a `tracking_params` variable, which we will pass to the\nParticipantAFQ object which specifies that we want 25,000 seeds randomly\ndistributed in the white matter. We only do this to make this example\nfaster and consume less space. We also set ``num_chunks`` to `True`,\nwhich will use ray to parallelize the tracking across all cores.\nThis can be removed to process in serial, or set to use a particular\ndistribution of work by setting `n_chunks` to an integer number.\n\n"
      ]
    },
    {
      "cell_type": "code",
      "execution_count": null,
      "metadata": {
        "collapsed": false
      },
      "outputs": [],
      "source": [
        "tracking_params = dict(n_seeds=25000,\n                       random_seeds=True,\n                       rng_seed=2022,\n                       trx=True,\n                       num_chunks=True)"
      ]
    },
    {
      "cell_type": "markdown",
      "metadata": {},
      "source": [
        "## Initialize a ParticipantAFQ object:\n\nCreates a ParticipantAFQ object, that encapsulates tractometry. This object \ncan be used to manage the entire :doc:`/explanations/tractometry_pipeline`, including:\n\n- Tractography\n- Registration\n- Segmentation\n- Cleaning\n- Profiling\n- Visualization\n\nTo initialize the object, we will pass in the diffusion data files and specify\nthe output directory where we want to store the results. We will also\npass in the tracking parameters we defined above. \n\n"
      ]
    },
    {
      "cell_type": "code",
      "execution_count": null,
      "metadata": {
        "collapsed": false
      },
      "outputs": [],
      "source": [
        "myafq = ParticipantAFQ(\n    dwi_data_file = dwi_data_file, \n    bval_file = bval_file,\n    bvec_file = bvec_file,\n    output_dir = output_dir,\n    tracking_params = tracking_params,\n)"
      ]
    },
    {
      "cell_type": "markdown",
      "metadata": {},
      "source": [
        "## Calculating DTI FA (Diffusion Tensor Imaging Fractional Anisotropy)\nThe ParticipantAFQ object has a method called ``export``, which allows the user\nto calculate various derived quantities from the data.\n\nFor example, FA can be computed using the DTI model, by explicitly\ncalling ``myafq.export(\"dti_fa\")``. This triggers the computation of DTI\nparameters, and stores the results in the AFQ derivatives directory. \nIn addition, it calculates the FA from these parameters and stores it in a \ndifferent file in the same directory.\n\n<div class=\"alert alert-info\"><h4>Note</h4><p>The AFQ API computes quantities lazily. This means that DTI parameters\n   are not computed until they are required. This means that the first\n   line below is the one that requires time.</p></div>\n\nThe result of the call to ``export`` is the filename of the corresponding FA \nfiles.\n\n"
      ]
    },
    {
      "cell_type": "code",
      "execution_count": null,
      "metadata": {
        "collapsed": false
      },
      "outputs": [],
      "source": [
        "FA_fname = myafq.export(\"dti_fa\")"
      ]
    },
    {
      "cell_type": "markdown",
      "metadata": {},
      "source": [
        "We will then use ``nibabel`` to load the deriviative file and retrieve the\ndata array.\n\n"
      ]
    },
    {
      "cell_type": "code",
      "execution_count": null,
      "metadata": {
        "collapsed": false
      },
      "outputs": [],
      "source": [
        "FA_img = nib.load(FA_fname)\nFA = FA_img.get_fdata()"
      ]
    },
    {
      "cell_type": "markdown",
      "metadata": {},
      "source": [
        "## Visualize the result with Matplotlib\nAt this point ``FA`` is an array, and we can use standard Python tools to\nvisualize it or perform additional computations with it.\n\nIn this case we are going to take an axial slice halfway through the\nFA data array and plot using a sequential color map.\n\n<div class=\"alert alert-info\"><h4>Note</h4><p>The data array is structured as a xyz coordinate system.</p></div>\n\n"
      ]
    },
    {
      "cell_type": "code",
      "execution_count": null,
      "metadata": {
        "collapsed": false
      },
      "outputs": [],
      "source": [
        "fig, ax = plt.subplots(1)\nax.matshow(FA[:, :, FA.shape[-1] // 2], cmap=\"viridis\")\nax.axis(\"off\")"
      ]
    },
    {
      "cell_type": "markdown",
      "metadata": {},
      "source": [
        "## Recognizing the bundles and calculating tract profiles:\nTypically, users of pyAFQ are interested in calculating not only an overall\nmap of the FA, but also the major white matter pathways (or bundles) and\ntract profiles of tissue properties along their length. To trigger the\npyAFQ pipeline that calculates the profiles, users can call the\n``export(\"profiles\")`` method:\n\n<div class=\"alert alert-info\"><h4>Note</h4><p>Running the code below triggers the full pipeline of operations\n   leading to the computation of the tract profiles. Therefore, it\n   takes a little while to run (about 40 minutes, typically).</p></div>\n\n"
      ]
    },
    {
      "cell_type": "code",
      "execution_count": null,
      "metadata": {
        "collapsed": false
      },
      "outputs": [],
      "source": [
        "myafq.export(\"profiles\")"
      ]
    },
    {
      "cell_type": "markdown",
      "metadata": {},
      "source": [
        "## Visualizing the bundles and calculating tract profiles:\nThe pyAFQ API provides several ways to visualize bundles and profiles.\n\nFirst, we will run a function that exports an html file that contains\nan interactive visualization of the bundles that are segmented.\n\n<div class=\"alert alert-info\"><h4>Note</h4><p>By default we resample a 100 points within a bundle, however to reduce\n   processing time we will only resample 50 points.</p></div>\n\nOnce it is done running, it should pop a browser window open and let you\ninteract with the bundles.\n\n<div class=\"alert alert-info\"><h4>Note</h4><p>You can hide or show a bundle by clicking the legend, or select a\n   single bundle by double clicking the legend. The interactive\n   visualization will also all you to pan, zoom, and rotate.</p></div>\n\n"
      ]
    },
    {
      "cell_type": "code",
      "execution_count": null,
      "metadata": {
        "collapsed": false
      },
      "outputs": [],
      "source": [
        "bundle_html = myafq.export(\"all_bundles_figure\")\nplotly.io.show(bundle_html[0])"
      ]
    },
    {
      "cell_type": "markdown",
      "metadata": {},
      "source": [
        "We can also visualize the tract profiles in all of the bundles. These\nplots show both FA (left) and MD (right) layed out anatomically.\nTo make this plot, it is required that you install with\n``pip install pyAFQ[plot]`` so that you have the necessary dependencies.\n\n\n"
      ]
    },
    {
      "cell_type": "code",
      "execution_count": null,
      "metadata": {
        "collapsed": false
      },
      "outputs": [],
      "source": [
        "fig_files = myafq.export(\"tract_profile_plots\")"
      ]
    },
    {
      "cell_type": "markdown",
      "metadata": {},
      "source": [
        ".. figure:: {{ fig_files[0] }}\n\n\n"
      ]
    }
  ],
  "metadata": {
    "kernelspec": {
      "display_name": "Python 3",
      "language": "python",
      "name": "python3"
    },
    "language_info": {
      "codemirror_mode": {
        "name": "ipython",
        "version": 3
      },
      "file_extension": ".py",
      "mimetype": "text/x-python",
      "name": "python",
      "nbconvert_exporter": "python",
      "pygments_lexer": "ipython3",
      "version": "3.12.11"
    }
  },
  "nbformat": 4,
  "nbformat_minor": 0
}