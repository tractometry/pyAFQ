{
  "cells": [
    {
      "cell_type": "markdown",
      "metadata": {},
      "source": [
        "\n# Running pyAFQ using the GPU for tractography\nRunning pyAFQ using the GPU for tractography is as simple as\n(1) Installing GPUStreamlines using `pip install` and\n(2) passing in the ``tractography_ngpus`` parameter when you create your\n    GroupAFQ object.\nTo install GPUStreamlines, do:\n    `pip install git+https://github.com/dipy/GPUStreamlines.git`\nThat's step 1 complete! The rest of this example is the same as the GroupAFQ\nexample except with the ``tractography_ngpus`` parameter set.\n"
      ]
    },
    {
      "cell_type": "code",
      "execution_count": null,
      "metadata": {
        "collapsed": false
      },
      "outputs": [],
      "source": [
        "from AFQ.api.group import GroupAFQ\nimport AFQ.data.fetch as afd\nimport os.path as op\nimport plotly"
      ]
    },
    {
      "cell_type": "markdown",
      "metadata": {},
      "source": [
        "We start with some example data. The data we will use here is\ngenerated from the\n[Stanford HARDI dataset](https://purl.stanford.edu/ng782rw8378).\nWe then setup our myafq object which we will use to demonstrate\nthe clobber method.\n\n"
      ]
    },
    {
      "cell_type": "code",
      "execution_count": null,
      "metadata": {
        "collapsed": false
      },
      "outputs": [],
      "source": [
        "afd.organize_stanford_data()\n\ntracking_params = dict(n_seeds=1000000,\n                       random_seeds=True,\n                       rng_seed=2025,\n                       trx=True)"
      ]
    },
    {
      "cell_type": "markdown",
      "metadata": {},
      "source": [
        "## Running with the GPU\nWe will use the GPU for tractography. This is done by\npassing in `tractography_ngpus`\nThat's it!\n\n"
      ]
    },
    {
      "cell_type": "code",
      "execution_count": null,
      "metadata": {
        "collapsed": false
      },
      "outputs": [],
      "source": [
        "myafq = GroupAFQ(\n    bids_path=op.join(afd.afq_home, 'stanford_hardi'),\n    preproc_pipeline='vistasoft',\n    tracking_params=tracking_params,\n    tractography_ngpus=1)\n\n# From here, pyAFQ should run normally\nbundle_html = myafq.export(\"all_bundles_figure\")\nplotly.io.show(bundle_html[\"01\"][0])"
      ]
    }
  ],
  "metadata": {
    "kernelspec": {
      "display_name": "Python 3",
      "language": "python",
      "name": "python3"
    },
    "language_info": {
      "codemirror_mode": {
        "name": "ipython",
        "version": 3
      },
      "file_extension": ".py",
      "mimetype": "text/x-python",
      "name": "python",
      "nbconvert_exporter": "python",
      "pygments_lexer": "ipython3",
      "version": "3.12.11"
    }
  },
  "nbformat": 4,
  "nbformat_minor": 0
}